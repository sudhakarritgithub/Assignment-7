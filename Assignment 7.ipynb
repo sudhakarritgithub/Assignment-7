{
 "cells": [
  {
   "cell_type": "raw",
   "id": "917d5dce-bb6e-46fe-8dd5-1eb0b119488f",
   "metadata": {},
   "source": [
    "                                                   ASSIGNMENT-7"
   ]
  },
  {
   "cell_type": "raw",
   "id": "ebf17c6d-0b72-4a24-9a81-82f63e35b34d",
   "metadata": {},
   "source": []
  },
  {
   "cell_type": "raw",
   "id": "756fd285-499f-4773-a138-d348f1e88900",
   "metadata": {},
   "source": []
  },
  {
   "cell_type": "raw",
   "id": "e87ded7f-3640-40ab-89fe-3f9a4dfccf29",
   "metadata": {},
   "source": [
    "Ques.1 What is Abstraction in OOps? Explain with an example."
   ]
  },
  {
   "cell_type": "raw",
   "id": "2a2a3c1b-1729-4e88-beab-87aeaa0abf44",
   "metadata": {},
   "source": [
    "Abstraction in object-oriented programming (OOP) is the concept of hiding the complex implementation details while showing only the necessary features of an object. It involves focusing on the essential qualities of an object while suppressing its non-essential or irrelevant details."
   ]
  },
  {
   "cell_type": "code",
   "execution_count": 1,
   "id": "570717a1-da6e-48bf-9787-6cf0eab7a005",
   "metadata": {},
   "outputs": [
    {
     "name": "stdout",
     "output_type": "stream",
     "text": [
      "The car is now traveling at 10 mph.\n",
      "The car slowed down to 0 mph.\n"
     ]
    }
   ],
   "source": [
    "class Car:\n",
    "    def __init__(self, make, model):\n",
    "        self.make = make\n",
    "        self.model = model\n",
    "        self.speed = 0\n",
    "\n",
    "    def accelerate(self):\n",
    "        self.speed += 10\n",
    "        print(f\"The car is now traveling at {self.speed} mph.\")\n",
    "\n",
    "    def brake(self):\n",
    "        if self.speed > 0:\n",
    "            self.speed -= 10\n",
    "            print(f\"The car slowed down to {self.speed} mph.\")\n",
    "        else:\n",
    "            print(\"The car is already stopped.\")\n",
    "\n",
    "# Using the Car class\n",
    "my_car = Car(\"Toyota\", \"Corolla\")\n",
    "my_car.accelerate()  # Output: The car is now traveling at 10 mph.\n",
    "my_car.brake()       # Output: The car slowed down to 0 mph.\n"
   ]
  },
  {
   "cell_type": "raw",
   "id": "2bb079f3-2779-43fc-8ea9-bdbca094bbc1",
   "metadata": {},
   "source": []
  },
  {
   "cell_type": "raw",
   "id": "38b137f3-49a2-40ea-9605-6c641073ad28",
   "metadata": {},
   "source": []
  },
  {
   "cell_type": "raw",
   "id": "3cfb7c2c-9ccb-4fdb-bc48-9a386e8913aa",
   "metadata": {},
   "source": [
    "Ques.2  Differentiate between Abstraction and Encapsulation. Explain with an example."
   ]
  },
  {
   "cell_type": "raw",
   "id": "20305ce5-602d-4d0c-9a31-4fc0f6899f25",
   "metadata": {},
   "source": [
    "Abstraction refers to the process of hiding complex implementation details and showing only the essential features of an object. It focuses on what an object does rather than how it does it, allowing the user to interact with high-level functionalities while ignoring the lower-level implementation.\n",
    "\n",
    "Encapsulation, on the other hand, involves bundling the data (attributes) and methods (functions) that operate on the data into a single unit (i.e., a class). It restricts direct access to some of the object's components and hides the internal state of an object from the outside. This concept is about combining data and methods into a single entity and controlling access to that entity."
   ]
  },
  {
   "cell_type": "code",
   "execution_count": 2,
   "id": "f316ac79-ddcf-4cf8-9ea9-af83ac3bbd9b",
   "metadata": {},
   "outputs": [
    {
     "name": "stdout",
     "output_type": "stream",
     "text": [
      "Insufficient funds\n",
      "Current Balance: 1300\n",
      "Transaction History: ['Deposited $500', 'Withdrew $200']\n"
     ]
    }
   ],
   "source": [
    "class BankAccount:\n",
    "    def __init__(self, account_number, balance):\n",
    "        self.account_number = account_number\n",
    "        self.balance = balance\n",
    "        self.transactions = []  # List to store transaction history\n",
    "\n",
    "    def deposit(self, amount):\n",
    "        self.balance += amount\n",
    "        self.transactions.append(f\"Deposited ${amount}\")\n",
    "\n",
    "    def withdraw(self, amount):\n",
    "        if self.balance >= amount:\n",
    "            self.balance -= amount\n",
    "            self.transactions.append(f\"Withdrew ${amount}\")\n",
    "        else:\n",
    "            print(\"Insufficient funds\")\n",
    "\n",
    "    def get_balance(self):\n",
    "        return self.balance\n",
    "\n",
    "    def get_transaction_history(self):\n",
    "        return self.transactions\n",
    "\n",
    "\n",
    "# Using the BankAccount class\n",
    "acc = BankAccount(\"123456789\", 1000)\n",
    "\n",
    "acc.deposit(500)\n",
    "acc.withdraw(200)\n",
    "acc.withdraw(1500)  # Output: Insufficient funds\n",
    "\n",
    "print(\"Current Balance:\", acc.get_balance())\n",
    "print(\"Transaction History:\", acc.get_transaction_history())\n"
   ]
  },
  {
   "cell_type": "raw",
   "id": "951a1b93-905b-4c7a-b7e1-884560902616",
   "metadata": {},
   "source": []
  },
  {
   "cell_type": "raw",
   "id": "b86a2db5-b768-4d4c-91b9-5cd2ac8e4d57",
   "metadata": {},
   "source": []
  },
  {
   "cell_type": "raw",
   "id": "ebf40bed-7f98-43a2-aced-ed13e10d8795",
   "metadata": {},
   "source": [
    "Ques.3  What is abc module in python? Why is it used?"
   ]
  },
  {
   "cell_type": "raw",
   "id": "2a477e14-b7df-4f18-9441-95a9be4c659e",
   "metadata": {},
   "source": [
    "The abc module in Python stands for \"Abstract Base Classes.\" It provides tools for creating abstract base classes and working with them. Abstract base classes (ABCs) are classes that are designed to be inherited from but not instantiated themselves. "
   ]
  },
  {
   "cell_type": "raw",
   "id": "6f8ae474-e353-4aee-8ca4-7632ed94c170",
   "metadata": {},
   "source": [
    "(A) Defining Abstract Base Classes :- It allows you to create abstract classes that define a set of methods or properties that must be implemented by their subclasses. This helps enforce a certain structure and behavior among related classes.\n",
    "\n",
    "(B) Enforcing Interfaces :- By using ABCs, you can define interfaces that must be followed by subclasses, ensuring that they implement certain methods or properties. This helps in maintaining a common interface across different implementations.\n",
    "\n",
    "(C) Polymorphism :- Using ABCs allows you to treat different subclasses uniformly based on the common methods or properties defined in the abstract base class, enabling polymorphic behavior."
   ]
  },
  {
   "cell_type": "raw",
   "id": "a1051b19-659e-4074-b666-856814df826b",
   "metadata": {},
   "source": []
  },
  {
   "cell_type": "raw",
   "id": "ab966e03-a0dd-4cad-b9a3-f65fefd2dabf",
   "metadata": {},
   "source": []
  },
  {
   "cell_type": "raw",
   "id": "77e9ef5e-24da-4770-bb15-c7844aa6cc0d",
   "metadata": {},
   "source": [
    "Ques.4 How can we achieve data abstraction ?"
   ]
  },
  {
   "cell_type": "markdown",
   "id": "55a57266-3eb2-4097-b9e3-02bc91740676",
   "metadata": {},
   "source": [
    "Data abstraction in programming involves presenting essential features of data without showing its background details. In object-oriented programming, you can achieve data abstraction through a combination of techniques"
   ]
  },
  {
   "cell_type": "raw",
   "id": "f0c0e88e-4e71-4b3b-a54f-78d5ca348c44",
   "metadata": {},
   "source": [
    "(A) Encapsulation :- Encapsulation hides the internal state and implementation details of an object. It involves bundling the data (attributes) and methods (functions) that operate on the data into a single unit (i.e., a class). By using access modifiers (like private, protected), you control access to the object's data, allowing interaction only through defined methods.\n",
    "\n",
    "(B) Abstract Classes and Interfaces :- Abstract classes and interfaces define a set of methods without providing implementations. Abstract classes may have some concrete methods along with abstract ones, while interfaces specify a contract that implementing classes must adhere to. These structures define a blueprint for classes that inherit from them, enforcing certain behaviors or method implementations.\n",
    "\n",
    "(C) Use of Getter and Setter Methods :- Rather than allowing direct access to an object's attributes, provide controlled access through getter and setter methods. Getters retrieve attribute values, and setters modify them. This way, you can enforce rules or validations when accessing or modifying data.\n",
    "\n",
    "(D) Reducing Complexity :- While designing classes, focus on exposing only necessary functionalities to users. Hide unnecessary details or complexities, allowing users to interact with a simplified interface."
   ]
  },
  {
   "cell_type": "raw",
   "id": "1162ecf1-0753-417c-b67a-9450c74dc81a",
   "metadata": {},
   "source": []
  },
  {
   "cell_type": "raw",
   "id": "1a1a74a0-e3be-4a62-a368-829bd3e3e0fb",
   "metadata": {},
   "source": []
  },
  {
   "cell_type": "raw",
   "id": "f306fda2-9438-42ca-9734-b3c237b683e7",
   "metadata": {},
   "source": [
    "Ques.5  Can we create an instance of an abstract class? Explain your answer."
   ]
  },
  {
   "cell_type": "raw",
   "id": "f73d8b90-d70d-47e9-a049-22d7422537d0",
   "metadata": {},
   "source": [
    "Python's abc module provides tools for working with abstract base classes. When you define an abstract class using this module, you use the abstractmethod decorator to declare methods as abstract. An abstract method is a method without an implementation."
   ]
  },
  {
   "cell_type": "raw",
   "id": "37cf9976-fa57-42aa-bb27-1dba70eedf3b",
   "metadata": {},
   "source": [
    "In Python, you cannot create an instance of an abstract class directly. Abstract classes serve as blueprints for other classes and are meant to be inherited by subclasses, which then provide concrete implementations for the abstract methods defined in the abstract class."
   ]
  },
  {
   "cell_type": "code",
   "execution_count": null,
   "id": "15c053c7-99d1-42c9-b9a6-eaa0699efe57",
   "metadata": {},
   "outputs": [],
   "source": []
  }
 ],
 "metadata": {
  "kernelspec": {
   "display_name": "Python 3 (ipykernel)",
   "language": "python",
   "name": "python3"
  },
  "language_info": {
   "codemirror_mode": {
    "name": "ipython",
    "version": 3
   },
   "file_extension": ".py",
   "mimetype": "text/x-python",
   "name": "python",
   "nbconvert_exporter": "python",
   "pygments_lexer": "ipython3",
   "version": "3.10.8"
  }
 },
 "nbformat": 4,
 "nbformat_minor": 5
}
